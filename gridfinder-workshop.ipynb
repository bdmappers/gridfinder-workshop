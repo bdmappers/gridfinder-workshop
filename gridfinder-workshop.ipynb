{
 "cells": [
  {
   "cell_type": "markdown",
   "metadata": {},
   "source": [
    "# GRIDFINDER WORKSHOP\n",
    "\n",
    "This notebook will guide you through the use of the _gridfinder_ model to create predictions on the location of medium-voltage grid lines in a given country, based on night-time lights data and OpenStreetMap road networks. This version has been simplified for the workshop.\n",
    "\n",
    "For more information, please see:\n",
    "- https://github.com/carderne/gridfinder\n",
    "- http://blogs.worldbank.org/energy/using-night-lights-map-electrical-grid-infrastructure\n",
    "- https://engineering.fb.com/connectivity/electrical-grid-mapping/"
   ]
  },
  {
   "cell_type": "markdown",
   "metadata": {},
   "source": [
    "# 1. Data Preparation\n",
    "## 1.a. Import necessary Modules\n",
    "If this fails, you may need to install additional modules, or check that gridfinder is in your path."
   ]
  },
  {
   "cell_type": "code",
   "execution_count": null,
   "metadata": {},
   "outputs": [],
   "source": [
    "import os\n",
    "from pathlib import Path\n",
    "\n",
    "import matplotlib.pyplot as plt\n",
    "from matplotlib import cm\n",
    "from mpl_toolkits.mplot3d import Axes3D\n",
    "import matplotlib.animation as animation\n",
    "import seaborn as sns\n",
    "from IPython.display import display, Markdown\n",
    "\n",
    "import numpy as np\n",
    "import rasterio\n",
    "from rasterstats import zonal_stats\n",
    "import geopandas as gpd\n",
    "import folium\n",
    "import branca\n",
    "\n",
    "import gridfinder as gf\n",
    "from gridfinder import save_raster"
   ]
  },
  {
   "cell_type": "markdown",
   "metadata": {},
   "source": [
    "## 1.b. Set folders and parameters\n",
    "These are the basic parameters and file names used in the model."
   ]
  },
  {
   "cell_type": "code",
   "execution_count": null,
   "metadata": {},
   "outputs": [],
   "source": [
    "# The country name here must match the names used in the \"data\" folder.\n",
    "country = \"kenya\""
   ]
  },
  {
   "cell_type": "code",
   "execution_count": null,
   "metadata": {},
   "outputs": [],
   "source": [
    "# You shouldn't need to change these\n",
    "data = Path(\"data\")\n",
    "aoi_in = data / f\"{country}.gpkg\"\n",
    "roads_in = data / \"roads.gpkg\"\n",
    "ntl_in = data / \"ntl.tif\""
   ]
  },
  {
   "cell_type": "code",
   "execution_count": null,
   "metadata": {},
   "outputs": [],
   "source": [
    "# Do not need to be changed\n",
    "outputs = Path(\"outputs\")\n",
    "ntl_out = outputs / \"ntl_clipped.tif\"\n",
    "ntl_thresh_out = outputs / \"ntl_thresh.tif\"\n",
    "targets_out = outputs / \"targets.tif\"\n",
    "roads_out = outputs / \"roads.tif\"\n",
    "\n",
    "dist_out = outputs / \"dist.tif\"\n",
    "guess_out = outputs / \"guess.tif\"\n",
    "guess_skeletonized_out = outputs / \"guess_skel.tif\"\n",
    "guess_nulled = outputs / \"guess_nulled.tif\"\n",
    "guess_vec_out = outputs / \"guess.gpkg\"\n",
    "animate_out = outputs / \"animated\""
   ]
  },
  {
   "cell_type": "code",
   "execution_count": null,
   "metadata": {},
   "outputs": [],
   "source": [
    "# These parameters control how the model operates.\n",
    "ntl_threshold = 0.1  # threshold when converting filtered NTL to binary (probably shouldn't change)\n",
    "upsample_by = 1      # factor by which to upsample before processing roads (both dimensions are scaled by this)\n",
    "cutoff = 0.0         # cutoff to apply to output dist raster, values below this are considered grid"
   ]
  },
  {
   "cell_type": "markdown",
   "metadata": {},
   "source": [
    "# 2. Geoprocessing and Algorithm Tuning\n",
    "## 2.a. Create Filter\n",
    "This filter is used to highlight areas of the night-time lights that are significantly brighter that their surroundings."
   ]
  },
  {
   "cell_type": "code",
   "execution_count": null,
   "metadata": {},
   "outputs": [],
   "source": [
    "ntl_filter = gf.create_filter()\n",
    "\n",
    "X = np.fromfunction(lambda i, j: i, ntl_filter.shape)\n",
    "Y = np.fromfunction(lambda i, j: j, ntl_filter.shape)\n",
    "\n",
    "fig = plt.figure()\n",
    "sns.set()\n",
    "ax = fig.gca(projection='3d')\n",
    "ax.plot_surface(X, Y, ntl_filter, cmap=cm.coolwarm, linewidth=0, antialiased=False)"
   ]
  },
  {
   "cell_type": "markdown",
   "metadata": {},
   "source": [
    "## 2.b. Clip, filter and resample night-time lights\n",
    "In this step, we clip the night-time lights, and then use the filter from above to calculate areas that are expected to have electricity access."
   ]
  },
  {
   "cell_type": "code",
   "execution_count": null,
   "metadata": {},
   "outputs": [],
   "source": [
    "aoi = gpd.read_file(aoi_in)\n",
    "aoi_diss = aoi.dissolve(by=\"admin\")\n",
    "buff = aoi_diss.copy()\n",
    "buff.geometry = aoi_diss.buffer(0.1)\n",
    "\n",
    "# Clip NTL raster\n",
    "ntl_clipped, affine, crs = gf.clip_raster(ntl_in, buff)\n",
    "gf.save_raster(ntl_out, ntl_clipped, affine, crs, nodata=None)"
   ]
  },
  {
   "cell_type": "code",
   "execution_count": null,
   "metadata": {},
   "outputs": [],
   "source": [
    "ntl_thresh, affine = gf.prepare_ntl(ntl_out,\n",
    "                                    buff,\n",
    "                                    ntl_filter=ntl_filter,\n",
    "                                    threshold=ntl_threshold,\n",
    "                                    upsample_by=upsample_by)\n",
    "save_raster(ntl_thresh_out, ntl_thresh, affine)\n",
    "# Clip to actual AOI\n",
    "targets, affine, _ = gf.clip_raster(ntl_thresh_out, aoi_diss)\n",
    "gf.save_raster(targets_out, targets, affine)\n",
    "\n",
    "print(\"Targets prepared\")\n",
    "plt.imshow(targets, cmap=\"viridis\")"
   ]
  },
  {
   "cell_type": "markdown",
   "metadata": {},
   "source": [
    "## 2.c. Roads: assign values, clip and rasterize\n",
    "We take the raw roads data from OSM and assign different 'costs' to different classes of roads. This means the algorithm will prefer to follow larger roads (motorways) over smaller roads or empty land."
   ]
  },
  {
   "cell_type": "code",
   "execution_count": null,
   "metadata": {},
   "outputs": [],
   "source": [
    "roads_raster, affine = gf.prepare_roads(roads_in,\n",
    "                                        aoi_in,\n",
    "                                        targets_out)\n",
    "save_raster(roads_out, roads_raster, affine, nodata=-1)\n",
    "print(\"Costs prepared\")\n",
    "plt.imshow(roads_raster, cmap='viridis', vmin=0, vmax=1)"
   ]
  },
  {
   "cell_type": "markdown",
   "metadata": {},
   "source": [
    "## 2.d. Get targets and costs and run algorithm"
   ]
  },
  {
   "cell_type": "code",
   "execution_count": null,
   "metadata": {},
   "outputs": [],
   "source": [
    "targets, costs, start, affine = gf.get_targets_costs(targets_out, roads_out)"
   ]
  },
  {
   "cell_type": "code",
   "execution_count": null,
   "metadata": {},
   "outputs": [],
   "source": [
    "dist = gf.optimise(targets, costs, start,\n",
    "                   jupyter=True,\n",
    "                   animate=True,\n",
    "                   affine=affine,\n",
    "                   animate_path=animate_out)\n",
    "save_raster(dist_out, dist, affine)\n",
    "plt.imshow(dist)"
   ]
  },
  {
   "cell_type": "markdown",
   "metadata": {},
   "source": [
    "# 3. Visualizing Results\n",
    "## 3.a. Filter dist results to grid guess\n",
    "Then from this result, we extract the locations below the given cutoff. These are assumed to be locations that have MV infrastructure."
   ]
  },
  {
   "cell_type": "code",
   "execution_count": null,
   "metadata": {},
   "outputs": [],
   "source": [
    "guess, affine = gf.threshold(dist_out, cutoff=cutoff)\n",
    "save_raster(guess_out, guess, affine)\n",
    "\n",
    "guess_skel, affine = gf.thin(guess_out)\n",
    "save_raster(guess_skeletonized_out, guess_skel, affine)\n",
    "\n",
    "print(\"Got guess and skeletonized\")\n",
    "plt.imshow(guess_skel)"
   ]
  },
  {
   "cell_type": "markdown",
   "metadata": {},
   "source": [
    "## 3.c. Convert to geometry\n",
    "To make it easier to work with, we convert this raster result into a vector."
   ]
  },
  {
   "cell_type": "code",
   "execution_count": null,
   "metadata": {
    "scrolled": false
   },
   "outputs": [],
   "source": [
    "mv = gf.raster_to_lines(guess_skeletonized_out)\n",
    "mv.crs = {\"init\": \"epsg:4326\"}\n",
    "mv.to_file(guess_vec_out, driver=\"GPKG\")\n",
    "print(\"Converted to geometry\")"
   ]
  },
  {
   "cell_type": "code",
   "execution_count": null,
   "metadata": {},
   "outputs": [],
   "source": [
    "minx, miny, maxx, maxy = list(mv.bounds.iloc[0])\n",
    "bounds = ((miny, minx), (maxy, maxx))\n",
    "\n",
    "m = folium.Map(control_scale=True)\n",
    "m.fit_bounds(bounds)\n",
    "folium.GeoJson(mv).add_to(m)\n",
    "m"
   ]
  },
  {
   "cell_type": "markdown",
   "metadata": {},
   "source": [
    "# 4. Applying zonal statitics"
   ]
  },
  {
   "cell_type": "code",
   "execution_count": null,
   "metadata": {},
   "outputs": [],
   "source": [
    "stats = zonal_stats(vectors=aoi, raster=guess_skeletonized_out, affine=affine, stats='sum')\n",
    "aoi[\"sum_mv\"] = [int(s[\"sum\"]) for s in stats]"
   ]
  },
  {
   "cell_type": "code",
   "execution_count": null,
   "metadata": {},
   "outputs": [],
   "source": [
    "colorscale = branca.colormap.linear.YlOrRd_09.scale(0, aoi[\"sum_mv\"].max())\n",
    "colorscale.caption = 'Total MV per region'"
   ]
  },
  {
   "cell_type": "code",
   "execution_count": null,
   "metadata": {},
   "outputs": [],
   "source": [
    "m = folium.Map(control_scale=True)\n",
    "m.fit_bounds(bounds)\n",
    "def style_function(feature):\n",
    "    sum_mv = feature[\"properties\"][\"sum_mv\"]\n",
    "    return {\n",
    "        'fillOpacity': 0.5,\n",
    "        'weight': 1,\n",
    "        'color': \"black\",\n",
    "        'fillColor': colorscale(sum_mv)\n",
    "    }\n",
    "folium.GeoJson(\n",
    "    aoi,\n",
    "    style_function = style_function\n",
    ").add_to(m)\n",
    "\n",
    "m.add_child(colorscale)\n",
    "m"
   ]
  },
  {
   "cell_type": "markdown",
   "metadata": {},
   "source": [
    "# 5. Challenge\n",
    "1. Run the MV Predictions for 3 other countries other than Ghana and generate maps for each.\n",
    "2. Calculate the estimated population within 1 km of the MV electrical grid prediction.\n",
    "3. Model Development and Policy Discussion."
   ]
  },
  {
   "cell_type": "code",
   "execution_count": null,
   "metadata": {},
   "outputs": [],
   "source": [
    "# Load population data\n",
    "pop_in = data / \"ghs_africa.tif\"\n",
    "pop_total = zonal_stats(vectors=aoi_diss, raster=pop_in, stats='sum')[0][\"sum\"]"
   ]
  },
  {
   "cell_type": "code",
   "execution_count": null,
   "metadata": {},
   "outputs": [],
   "source": [
    "# Buffer by set distance\n",
    "buff_dist = 1  # in km\n",
    "buff_dist_deg = buff_dist * 0.01  # approximate\n",
    "mv_buff = mv.copy()\n",
    "mv_buff.geometry = mv_buff.buffer(buff_dist_deg)\n",
    "\n",
    "# Calculate zonal population statistics\n",
    "pop_mv = zonal_stats(vectors=mv_buff, raster=pop_in, stats='sum')[0][\"sum\"]"
   ]
  },
  {
   "cell_type": "code",
   "execution_count": null,
   "metadata": {},
   "outputs": [],
   "source": [
    "print(f\"Total population:\\t{pop_total:.0f}\")\n",
    "print(f\"Population within 1km:\\t{pop_mv:.0f}\")\n",
    "print(f\"Percentage within 1km:\\t{100*pop_mv/pop_total:.0f}%\")"
   ]
  },
  {
   "cell_type": "code",
   "execution_count": null,
   "metadata": {},
   "outputs": [],
   "source": []
  }
 ],
 "metadata": {
  "kernelspec": {
   "display_name": "Python 3",
   "language": "python",
   "name": "python3"
  },
  "language_info": {
   "codemirror_mode": {
    "name": "ipython",
    "version": 3
   },
   "file_extension": ".py",
   "mimetype": "text/x-python",
   "name": "python",
   "nbconvert_exporter": "python",
   "pygments_lexer": "ipython3",
   "version": "3.7.3"
  }
 },
 "nbformat": 4,
 "nbformat_minor": 2
}
